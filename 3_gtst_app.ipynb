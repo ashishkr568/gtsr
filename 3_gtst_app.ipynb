{
 "cells": [
  {
   "cell_type": "markdown",
   "id": "9c9e06c0-2f7c-49ec-815c-7d01eda7f441",
   "metadata": {},
   "source": [
    "# German Traffic Sign Classifier App\n",
    "We have created our classifier **(Refer 2_gtsr_eda_train_classifier.ipynb)**, let's create an Application which we can share with our coulegues / stakeholders so that they can test the classifier's performance (without worrying about setting the python environment and running the notebook).\n",
    "\n",
    "\n",
    "In this notebook we will create a GUI using python's ipywidgets and deploy this application using voila and [Binder](!https://mybinder.org/). This application will take an image of a german traffic sign, Identify it, classify it to one of the 43 traffic signs and display the traffic sign name along with its confidence (probablity).\n",
    "\n",
    "**Note:** When we deploy this notebook using Binder, all this code will not be visible only the app will be visible."
   ]
  },
  {
   "cell_type": "code",
   "execution_count": 1,
   "id": "70b805a7-2e02-494a-8fa6-f95ec5965686",
   "metadata": {},
   "outputs": [],
   "source": [
    "# Import Packages\n",
    "from fastai.vision.all import *\n",
    "from fastai.vision.widgets import *\n",
    "import pandas as pd\n",
    "from IPython.display import display, HTML\n",
    "import PIL"
   ]
  },
  {
   "cell_type": "code",
   "execution_count": 2,
   "id": "033076ce-ec0d-490d-a41d-d77faff3c0b5",
   "metadata": {},
   "outputs": [],
   "source": [
    "# Load Learner and German Traffic Sign Names csv\n",
    "learn_inf=load_learner(\"model/\"+'gtsr_resnet34_15e.pkl')\n",
    "sign_name_df=pd.read_csv('sign_names.csv')"
   ]
  },
  {
   "cell_type": "code",
   "execution_count": 3,
   "id": "548198ca-38a3-44f5-bd3c-05a395795bfd",
   "metadata": {},
   "outputs": [],
   "source": [
    "# Create Buttons and Labels to display on the APP\n",
    "btn_upload=widgets.FileUpload(layout=Layout(height='auto', width='auto'))\n",
    "btn_classify=widgets.Button(description='Classify',layout=Layout(height='auto', width='auto'))\n",
    "out_pl=widgets.Output()\n",
    "act_pl=widgets.Output()\n",
    "lbl_pred=widgets.Label()\n",
    "prob_pred=widgets.Label()"
   ]
  },
  {
   "cell_type": "code",
   "execution_count": 4,
   "id": "eca3b082-ab25-40da-8718-cdfe6c39a88c",
   "metadata": {},
   "outputs": [],
   "source": [
    "# Create On Click Event\n",
    "def on_click(change):\n",
    "    # Read Uplaoded Image\n",
    "    img=PILImage.create(btn_upload.data[-1])\n",
    "    # Clear Previous outputs\n",
    "    out_pl.clear_output()\n",
    "    act_pl.clear_output()\n",
    "    # Display newly uploaded image\n",
    "    with out_pl: display(img.to_thumb(128,128))\n",
    "    # Get Prediction and Sign name\n",
    "    pred,pred_idx,probs= learn_inf.predict(img)\n",
    "    sign_name=sign_name_df[sign_name_df['ClassId']==int(pred)]['SignName'].values[0]\n",
    "    \n",
    "    # Display actual image of the predicted class form Meta Folder\n",
    "    with act_pl: display(PIL.Image.open('/Meta/'+str(pred)+'.png').to_thumb(128,128))\n",
    "    lbl_pred.value=f'Prediction: {sign_name}'\n",
    "    prob_pred.value=f'Probablity: {probs[pred_idx]: .04f}'"
   ]
  },
  {
   "cell_type": "code",
   "execution_count": 5,
   "id": "95975168-c42b-4fe5-b5e1-866c6070becd",
   "metadata": {},
   "outputs": [
    {
     "data": {
      "text/html": [
       "<style>.header_lbl { color:black ; text-align:center;font-weight:bold}</style>"
      ],
      "text/plain": [
       "<IPython.core.display.HTML object>"
      ]
     },
     "metadata": {},
     "output_type": "display_data"
    },
    {
     "data": {
      "text/html": [
       "<style>.text_block { color:black ; text-align:center;font-weight:bold}</style>"
      ],
      "text/plain": [
       "<IPython.core.display.HTML object>"
      ]
     },
     "metadata": {},
     "output_type": "display_data"
    },
    {
     "data": {
      "text/html": [
       "<style>.img_block { display: block ; margin-left: auto ; margin-right: auto ; width: 10%}</style>"
      ],
      "text/plain": [
       "<IPython.core.display.HTML object>"
      ]
     },
     "metadata": {},
     "output_type": "display_data"
    }
   ],
   "source": [
    "# CSS Style for Headers and Text\n",
    "display(HTML(\"<style>.header_lbl { color:black ; text-align:center;font-weight:bold}</style>\"))\n",
    "\n",
    "display(HTML(\"<style>.text_block { color:black ; text-align:center;font-weight:bold}</style>\"))\n",
    "\n",
    "display(HTML(\"<style>.img_block { display: block ; margin-left: auto ; margin-right: auto ; width: 10%}</style>\"))\n"
   ]
  },
  {
   "cell_type": "code",
   "execution_count": 6,
   "id": "700258f9-ae79-48b1-b54a-4e32ee106e4c",
   "metadata": {},
   "outputs": [
    {
     "data": {
      "application/vnd.jupyter.widget-view+json": {
       "model_id": "d76b0baeafa140aa8ea18fc5cc155e5b",
       "version_major": 2,
       "version_minor": 0
      },
      "text/plain": [
       "GridspecLayout(children=(Label(value='Select an Image of a German Traffic Sign', layout=Layout(grid_area='widg…"
      ]
     },
     "metadata": {},
     "output_type": "display_data"
    }
   ],
   "source": [
    "from ipywidgets import GridspecLayout\n",
    "#btn_classify.on_click(on_click)\n",
    "btn_upload.observe(on_click, names=['data'])\n",
    "grid = GridspecLayout(5, 2)\n",
    "grid = GridspecLayout(5, 2, height='200px')\n",
    "grid[0, :] = Label(value=\"Select an Image of a German Traffic Sign\").add_class(\"header_lbl\")\n",
    "grid[1, :] = btn_upload\n",
    "#grid[1, 1] = btn_classify\n",
    "grid[2, 0] = out_pl.add_class(\"img_block\")\n",
    "grid[2, 1] = act_pl.add_class(\"img_block\")\n",
    "grid[3, 0] = Label(value=\"Uploaded Image\").add_class(\"header_lbl\")\n",
    "grid[3, 1] = lbl_pred.add_class(\"text_block\")\n",
    "grid[4, 1] = prob_pred.add_class(\"text_block\")\n",
    "grid"
   ]
  },
  {
   "cell_type": "code",
   "execution_count": 22,
   "id": "b7d12080-721d-4db9-a3e3-bfbf02a75c2f",
   "metadata": {},
   "outputs": [],
   "source": [
    "# Bind All buttons and Lables in an App\n",
    "# Without Classify Button\n",
    "#btn_upload.observe(on_click, names=['data'])\n",
    "#display(VBox([widgets.Label(\"Select an image of a German Traffic Sign\"),btn_upload,out_pl,act_pl,lbl_pred,prob_pred]))"
   ]
  },
  {
   "cell_type": "code",
   "execution_count": null,
   "id": "ef011a09-8d2b-4219-ae20-4a3615d92f18",
   "metadata": {},
   "outputs": [],
   "source": []
  }
 ],
 "metadata": {
  "kernelspec": {
   "display_name": "Python 3 (ipykernel)",
   "language": "python",
   "name": "python3"
  },
  "language_info": {
   "codemirror_mode": {
    "name": "ipython",
    "version": 3
   },
   "file_extension": ".py",
   "mimetype": "text/x-python",
   "name": "python",
   "nbconvert_exporter": "python",
   "pygments_lexer": "ipython3",
   "version": "3.7.11"
  }
 },
 "nbformat": 4,
 "nbformat_minor": 5
}
