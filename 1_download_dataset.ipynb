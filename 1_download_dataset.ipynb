{
 "cells": [
  {
   "cell_type": "markdown",
   "id": "d5b0cfdb-9134-4e3e-9c6e-dbe68a3cff0f",
   "metadata": {
    "tags": []
   },
   "source": [
    "# Download and extract German Traffic Sign Recognition (GTSR) Dataset from Kaggle\n",
    "This notebook will be used for the following tasks:\n",
    " - Download competition dataset from Kaggle (https://www.kaggle.com/datasets/meowmeowmeowmeowmeow/gtsrb-german-traffic-sign) using Kaggle API\n",
    " - We are using free GPU package from paperspace so we will be moving files to its Storage folder So, that we don't have to download it every time\n",
    " - These are zipped files, we will unzip it."
   ]
  },
  {
   "cell_type": "markdown",
   "id": "8fd445d9-ffde-40d0-b3ed-d1da9fc627b2",
   "metadata": {},
   "source": [
    "#### Update inputs in the below cell"
   ]
  },
  {
   "cell_type": "code",
   "execution_count": 2,
   "id": "8b5e7871-c35e-49bc-a940-f6928960fbce",
   "metadata": {},
   "outputs": [],
   "source": [
    "# Change file name and storage location based on requirement\n",
    "\n",
    "# file name\n",
    "f_name='gtsrb-german-traffic-sign'\n",
    "\n",
    "# storage_location\n",
    "storage_loc='/storage/'\n"
   ]
  },
  {
   "cell_type": "markdown",
   "id": "1efddb83-6e2b-4e30-88a9-c3c8346d5e1b",
   "metadata": {},
   "source": [
    "#### Install Required Packages"
   ]
  },
  {
   "cell_type": "code",
   "execution_count": 7,
   "id": "c55f8912-0867-47f0-b4ff-fd6f78fe0ddd",
   "metadata": {},
   "outputs": [
    {
     "name": "stdout",
     "output_type": "stream",
     "text": [
      "Imported and installed packages for this session\n"
     ]
    }
   ],
   "source": [
    "# Download and installed necessary packages\n",
    "from IPython.display import clear_output\n",
    "from fastai.vision.widgets import *\n",
    "import os\n",
    "import shutil\n",
    "import zipfile\n",
    "!pip install kaggle\n",
    "!pip install fastbook\n",
    "clear_output()\n",
    "print(\"Imported and installed packages for this session\")"
   ]
  },
  {
   "cell_type": "markdown",
   "id": "bbba0c12-49bb-4f82-add3-63cc7911f1d9",
   "metadata": {},
   "source": [
    "#### Upload Kaggle.json file to facilitate the use of downloading dataset using kaggle API\n",
    "\n",
    "Refer https://medium.com/@ashish.568/download-competition-datasets-from-kaggle-using-python-1789427ebf56 to know about how to download dataset from kaggle"
   ]
  },
  {
   "cell_type": "code",
   "execution_count": 5,
   "id": "ae5e839b-5e4b-4361-b355-8af1302f8cb6",
   "metadata": {},
   "outputs": [
    {
     "data": {
      "application/vnd.jupyter.widget-view+json": {
       "model_id": "08a0a61b5ce144668877bddb858cff7a",
       "version_major": 2,
       "version_minor": 0
      },
      "text/plain": [
       "FileUpload(value={}, description='Upload')"
      ]
     },
     "metadata": {},
     "output_type": "display_data"
    }
   ],
   "source": [
    "# Create a Button to upload Kaggle.json File. This is an API for using Kaggle CLI\n",
    "btn_upload = widgets.FileUpload()\n",
    "btn_upload"
   ]
  },
  {
   "cell_type": "code",
   "execution_count": 8,
   "id": "b980d9b6-25ee-4ecf-9f1e-7a32c60cb633",
   "metadata": {},
   "outputs": [],
   "source": [
    "# Save the file to root folder in linux\n",
    "with open(\"kaggle.json\", \"wb\") as f:\n",
    "    f.write(btn_upload.value['kaggle.json']['content'])\n",
    "\n",
    "k_path=os.getcwd()+'/kaggle.json'\n",
    "!mv $k_path ~/.kaggle/\n",
    "\n",
    "# Restrict Access to this file\n",
    "!chmod 600 /root/.kaggle/kaggle.json"
   ]
  },
  {
   "cell_type": "code",
   "execution_count": 9,
   "id": "a50bb56b-be77-48e0-a985-f4c81607b53a",
   "metadata": {},
   "outputs": [
    {
     "name": "stdout",
     "output_type": "stream",
     "text": [
      "Downloading gtsrb-german-traffic-sign.zip to /notebooks/GTSRB/gtsr\n",
      " 98%|███████████████████████████████████████▎| 602M/612M [00:06<00:00, 96.2MB/s]\n",
      "100%|█████████████████████████████████████████| 612M/612M [00:06<00:00, 104MB/s]\n"
     ]
    }
   ],
   "source": [
    "# Download data from kaggle using kaggle CLI\n",
    "import kaggle\n",
    "\n",
    "# Kaggle API (This can be found from the competition website)\n",
    "kaggle_api='kaggle datasets download -d meowmeowmeowmeowmeow/gtsrb-german-traffic-sign'\n",
    "\n",
    "!$kaggle_api"
   ]
  },
  {
   "cell_type": "code",
   "execution_count": 10,
   "id": "ced9607c-1fdb-4b2d-b3a5-9fe27640ed87",
   "metadata": {},
   "outputs": [],
   "source": [
    "# Move data to storage folder so that it is retained across session and we don't have to download it in every session\n",
    "ext='.zip'\n",
    "c_path=os.getcwd()+'/'+f_name+ext\n",
    "!mv $c_path $storage_loc"
   ]
  },
  {
   "cell_type": "code",
   "execution_count": null,
   "id": "47ff8a0a-2eee-4d0e-b1cc-12e5583a555f",
   "metadata": {},
   "outputs": [],
   "source": [
    "# Extract file\n",
    "if not os.path.exists(storage_loc+f_name):\n",
    "    os.makedirs(storage_loc+f_name)\n",
    "zipfile.ZipFile(storage_loc+f_name+ext).extractall(storage_loc+f_name+'/')\n",
    "print(\"Extraction Completed\")"
   ]
  }
 ],
 "metadata": {
  "kernelspec": {
   "display_name": "Python 3 (ipykernel)",
   "language": "python",
   "name": "python3"
  },
  "language_info": {
   "codemirror_mode": {
    "name": "ipython",
    "version": 3
   },
   "file_extension": ".py",
   "mimetype": "text/x-python",
   "name": "python",
   "nbconvert_exporter": "python",
   "pygments_lexer": "ipython3",
   "version": "3.7.11"
  }
 },
 "nbformat": 4,
 "nbformat_minor": 5
}
